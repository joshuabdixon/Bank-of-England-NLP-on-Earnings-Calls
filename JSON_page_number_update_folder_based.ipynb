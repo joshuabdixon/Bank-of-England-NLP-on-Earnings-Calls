{
 "cells": [
  {
   "cell_type": "code",
   "execution_count": 35,
   "metadata": {},
   "outputs": [],
   "source": [
    "#Folder based page update\n",
    "import pandas as pd\n",
    "import json\n",
    "from pathlib import Path\n",
    "\n",
    "def update_json_page_numbers(csv_file, json_folder, output_folder):\n",
    "    \"\"\"\n",
    "    Updates the page numbers in all JSON files within a folder based on the correct offset from a CSV metadata file.\n",
    "\n",
    "    Parameters:\n",
    "    csv_file (str): Path to the CSV file containing Q&A metadata.\n",
    "    json_folder (str): Path to the folder containing JSON files to be processed.\n",
    "    output_folder (str): Path to the folder where updated JSON files will be saved.\n",
    "\n",
    "    Output:\n",
    "    Saves new JSON files with \"_correct_pages\" appended to the filenames in the output folder.\n",
    "    \"\"\"\n",
    "    # Load CSV\n",
    "    metadata_df = pd.read_csv(csv_file)\n",
    "    \n",
    "    # Ensure the folders exist\n",
    "    json_folder_path = Path(json_folder)\n",
    "    output_folder_path = Path(output_folder)\n",
    "    output_folder_path.mkdir(parents=True, exist_ok=True)\n",
    "    \n",
    "    if not json_folder_path.exists():\n",
    "        print(f\"❌ Folder not found: {json_folder}\")\n",
    "        return\n",
    "    \n",
    "    # Process all JSON files in the folder\n",
    "    for json_file in json_folder_path.glob(\"*.json\"):\n",
    "        # Extract original filename by removing \"processed_\"\n",
    "        json_filename = json_file.stem.replace(\"processed_\", \"\")\n",
    "\n",
    "        # Append .pdf to match filenames in CSV\n",
    "        json_filename_with_ext = \"QnA_\" + json_filename + \".pdf\"\n",
    "\n",
    "        # Find the corresponding row in CSV\n",
    "        row = metadata_df[metadata_df[\"Extracted Q&A File Name\"] == json_filename_with_ext]\n",
    "\n",
    "        if row.empty:\n",
    "            print(f\"❌ No matching row found in CSV for file: {json_filename_with_ext}\")\n",
    "            continue\n",
    "\n",
    "        correct_page_number = int(row.iloc[0][\"Q&A Section Page\"])\n",
    "\n",
    "        # Read the JSON file\n",
    "        with open(json_file, \"r\", encoding=\"utf-8\") as f:\n",
    "            file_content = f.read().strip()\n",
    "\n",
    "        # Preprocess JSON: Remove Markdown artifacts\n",
    "        if file_content.startswith(\"```json\") and file_content.endswith(\"```\"):\n",
    "            file_content = file_content[7:-3].strip()\n",
    "\n",
    "        # Ensure JSON objects are wrapped in a list\n",
    "        file_content_cleaned = \"[\" + file_content.replace(\"}\\n{\", \"},\\n{\") + \"]\"\n",
    "\n",
    "        try:\n",
    "            # Load the cleaned JSON\n",
    "            json_data = json.loads(file_content_cleaned)\n",
    "\n",
    "            # Update Page numbers\n",
    "            for entry in json_data:\n",
    "                if \"Page\" in entry and isinstance(entry[\"Page\"], list):\n",
    "                    entry[\"Page\"] = [p + correct_page_number - 2 for p in entry[\"Page\"]]\n",
    "\n",
    "            # Save new version with updated pages in the output folder\n",
    "            new_json_file = output_folder_path / f\"{json_file.stem}_correct_pages.json\"\n",
    "            with open(new_json_file, \"w\", encoding=\"utf-8\") as f:\n",
    "                json.dump(json_data, f, indent=4)\n",
    "\n",
    "            print(f\"✅ Updated JSON saved as: {new_json_file}\")\n",
    "\n",
    "        except json.JSONDecodeError as e:\n",
    "            # The error \"Expecting value: line 1 column 2 (char 1)\" indicates that the JSON content \n",
    "            # is malformed. This may occur if there are unexpected characters, missing or extra brackets,\n",
    "            # or other formatting issues in the JSON data.\n",
    "            # We are aware of this issue with the last JSON file and plan to improve the JSON cleaning logic \n",
    "            # in a future update.\n",
    "            print(f\"❌ Failed to parse JSON after cleaning: {e}\")\n"
   ]
  },
  {
   "cell_type": "code",
   "execution_count": 36,
   "metadata": {},
   "outputs": [
    {
     "name": "stdout",
     "output_type": "stream",
     "text": [
      "Current directory: c:\\Users\\joshu\\OneDrive\\Documents\\1 Work\\Bank of England NLP\\Bank-of-England-NLP-on-Earnings-Calls\n"
     ]
    }
   ],
   "source": [
    "# Pathways\n",
    "import os\n",
    "import sys\n",
    "from pathlib import Path\n",
    "\n",
    "# Automatically set the project path to the current working directory\n",
    "project_path = Path.cwd()\n",
    "os.chdir(project_path)\n",
    "sys.path.insert(0, str(project_path))\n",
    "\n",
    "print(f\"Current directory: {os.getcwd()}\")"
   ]
  },
  {
   "cell_type": "code",
   "execution_count": 37,
   "metadata": {},
   "outputs": [
    {
     "name": "stdout",
     "output_type": "stream",
     "text": [
      "✅ Updated JSON saved as: 4_processed_json_correct_pages\\processed_jpm-1q24-earnings-call-transcript_correct_pages.json\n",
      "✅ Updated JSON saved as: 4_processed_json_correct_pages\\processed_jpm-2q24-earnings-call-transcript_correct_pages.json\n",
      "✅ Updated JSON saved as: 4_processed_json_correct_pages\\processed_jpm-3q24-earnings-call-transcript_correct_pages.json\n",
      "✅ Updated JSON saved as: 4_processed_json_correct_pages\\processed_jpm-4q24-earnings-call-transcript_correct_pages.json\n",
      "✅ Updated JSON saved as: 4_processed_json_correct_pages\\processed_Q1_Transcript-Analyst-Call-25-April-2024_correct_pages.json\n",
      "✅ Updated JSON saved as: 4_processed_json_correct_pages\\processed_Q2_Transcript-Analyst-Call-24-July-2024-For-Upload_correct_pages.json\n",
      "✅ Updated JSON saved as: 4_processed_json_correct_pages\\processed_Q3-2024-Analyst-Call-Transcript-For-Upload_correct_pages.json\n",
      "❌ Failed to parse JSON after cleaning: Expecting value: line 1 column 2 (char 1)\n"
     ]
    }
   ],
   "source": [
    "# Setup for folder based processing\n",
    "\n",
    "csv_file = \"2_extracted_data/qna_sections_metadata.csv\"\n",
    "json_folder = \"3_processed_json\"\n",
    "output_folder = \"4_processed_json_correct_pages\" \n",
    "update_json_page_numbers(csv_file, json_folder, output_folder)"
   ]
  }
 ],
 "metadata": {
  "kernelspec": {
   "display_name": "bank_env",
   "language": "python",
   "name": "python3"
  },
  "language_info": {
   "codemirror_mode": {
    "name": "ipython",
    "version": 3
   },
   "file_extension": ".py",
   "mimetype": "text/x-python",
   "name": "python",
   "nbconvert_exporter": "python",
   "pygments_lexer": "ipython3",
   "version": "3.10.16"
  }
 },
 "nbformat": 4,
 "nbformat_minor": 2
}
