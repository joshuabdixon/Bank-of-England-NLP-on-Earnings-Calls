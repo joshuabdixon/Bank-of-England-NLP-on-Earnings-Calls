{
 "cells": [
  {
   "cell_type": "code",
   "execution_count": null,
   "metadata": {},
   "outputs": [],
   "source": [
    "#Folder based page update\n",
    "import pandas as pd\n",
    "import json\n",
    "from pathlib import Path\n",
    "\n",
    "def update_json_page_numbers(csv_file, json_folder, output_folder):\n",
    "    \"\"\"\n",
    "    Updates the page numbers in all JSON files within a folder based on the correct offset from a CSV metadata file.\n",
    "\n",
    "    Parameters:\n",
    "    csv_file (str): Path to the CSV file containing Q&A metadata.\n",
    "    json_folder (str): Path to the folder containing JSON files to be processed.\n",
    "    output_folder (str): Path to the folder where updated JSON files will be saved.\n",
    "\n",
    "    Output:\n",
    "    Saves new JSON files with \"_correct_pages\" appended to the filenames in the output folder.\n",
    "    \"\"\"\n",
    "    # Load CSV\n",
    "    metadata_df = pd.read_csv(csv_file)\n",
    "    \n",
    "    # Ensure the folders exist\n",
    "    json_folder_path = Path(json_folder)\n",
    "    output_folder_path = Path(output_folder)\n",
    "    output_folder_path.mkdir(parents=True, exist_ok=True)\n",
    "    \n",
    "    if not json_folder_path.exists():\n",
    "        print(f\"❌ Folder not found: {json_folder}\")\n",
    "        return\n",
    "    \n",
    "    # Process all JSON files in the folder\n",
    "    for json_file in json_folder_path.glob(\"*.json\"):\n",
    "        # Extract original filename by removing \"processed_\"\n",
    "        json_filename = json_file.stem.replace(\"processed_\", \"\")\n",
    "\n",
    "        # Append .pdf to match filenames in CSV\n",
    "        json_filename_with_ext = json_filename + \".pdf\"\n",
    "\n",
    "        # Find the corresponding row in CSV\n",
    "        row = metadata_df[metadata_df[\"Extracted Q&A File Name\"] == json_filename_with_ext]\n",
    "\n",
    "        if row.empty:\n",
    "            print(f\"❌ No matching row found in CSV for file: {json_filename_with_ext}\")\n",
    "            continue\n",
    "\n",
    "        correct_page_number = int(row.iloc[0][\"Q&A Section Page\"])\n",
    "\n",
    "        # Read the JSON file\n",
    "        with open(json_file, \"r\", encoding=\"utf-8\") as f:\n",
    "            file_content = f.read().strip()\n",
    "\n",
    "        # Preprocess JSON: Remove Markdown artifacts\n",
    "        if file_content.startswith(\"```json\") and file_content.endswith(\"```\"):\n",
    "            file_content = file_content[7:-3].strip()\n",
    "\n",
    "        # Ensure JSON objects are wrapped in a list\n",
    "        file_content_cleaned = \"[\" + file_content.replace(\"}\\n{\", \"},\\n{\") + \"]\"\n",
    "\n",
    "        try:\n",
    "            # Load the cleaned JSON\n",
    "            json_data = json.loads(file_content_cleaned)\n",
    "\n",
    "            # Update Page numbers\n",
    "            for entry in json_data:\n",
    "                if \"Page\" in entry and isinstance(entry[\"Page\"], list):\n",
    "                    entry[\"Page\"] = [p + correct_page_number - 2 for p in entry[\"Page\"]]\n",
    "\n",
    "            # Save new version with updated pages in the output folder\n",
    "            new_json_file = output_folder_path / f\"{json_file.stem}_correct_pages.json\"\n",
    "            with open(new_json_file, \"w\", encoding=\"utf-8\") as f:\n",
    "                json.dump(json_data, f, indent=4)\n",
    "\n",
    "            print(f\"✅ Updated JSON saved as: {new_json_file}\")\n",
    "\n",
    "        except json.JSONDecodeError as e:\n",
    "            print(f\"❌ Failed to parse JSON after cleaning: {e}\")\n"
   ]
  },
  {
   "cell_type": "code",
   "execution_count": 115,
   "metadata": {},
   "outputs": [
    {
     "name": "stdout",
     "output_type": "stream",
     "text": [
      "Current directory: C:\\Users\\genna\\Documents\\Cam-Course\\BoE_RAGS\\Bank_of_England_NLP\n"
     ]
    }
   ],
   "source": [
    "##Needed only when run localy --- update using path to your project folder \n",
    "import os\n",
    "import sys\n",
    "from pathlib import Path\n",
    "\n",
    "#Update path HERE - dont forget the r in the begining  \n",
    "project_path = Path(r\"C:\\Users\\genna\\Documents\\Cam-Course\\BoE_RAGS\\Bank_of_England_NLP\")\n",
    "os.chdir(project_path)\n",
    "sys.path.insert(0, str(project_path))\n",
    "\n",
    "print(f\"Current directory: {os.getcwd()}\")"
   ]
  },
  {
   "cell_type": "code",
   "execution_count": 117,
   "metadata": {},
   "outputs": [
    {
     "name": "stdout",
     "output_type": "stream",
     "text": [
      "✅ Updated JSON saved as: 1_data_and_preprocess\\1.0_raw\\processed_QnA_correct_pages\\processed_QnA_jpm-1q24-earnings-call-transcript_correct_pages.json\n",
      "✅ Updated JSON saved as: 1_data_and_preprocess\\1.0_raw\\processed_QnA_correct_pages\\processed_QnA_jpm-2q24-earnings-call-transcript_correct_pages.json\n",
      "✅ Updated JSON saved as: 1_data_and_preprocess\\1.0_raw\\processed_QnA_correct_pages\\processed_QnA_jpm-3q24-earnings-call-transcript_correct_pages.json\n",
      "✅ Updated JSON saved as: 1_data_and_preprocess\\1.0_raw\\processed_QnA_correct_pages\\processed_QnA_jpm-4q24-earnings-call-transcript_correct_pages.json\n",
      "✅ Updated JSON saved as: 1_data_and_preprocess\\1.0_raw\\processed_QnA_correct_pages\\processed_QnA_Q1_Transcript-Analyst-Call-25-April-2024_correct_pages.json\n",
      "✅ Updated JSON saved as: 1_data_and_preprocess\\1.0_raw\\processed_QnA_correct_pages\\processed_QnA_Q2_Transcript-Analyst-Call-24-July-2024-For-Upload_correct_pages.json\n",
      "✅ Updated JSON saved as: 1_data_and_preprocess\\1.0_raw\\processed_QnA_correct_pages\\processed_QnA_Q3-2024-Analyst-Call-Transcript-For-Upload_correct_pages.json\n",
      "✅ Updated JSON saved as: 1_data_and_preprocess\\1.0_raw\\processed_QnA_correct_pages\\processed_QnA_Q4-2024-Analyst-Call-Transcript-For-Upload_w Q&A_correct_pages.json\n"
     ]
    }
   ],
   "source": [
    "#Setup for folder based processing\n",
    "\n",
    "csv_file = \"1_data_and_preprocess/1.0_raw/extracted_QnA/qna_sections_metadata.csv\"\n",
    "json_folder = \"1_data_and_preprocess/1.0_raw/processed_QnA\"\n",
    "output_folder = \"1_data_and_preprocess/1.0_raw/processed_QnA_correct_pages\"\n",
    "update_json_page_numbers(csv_file, json_folder, output_folder)"
   ]
  }
 ],
 "metadata": {
  "kernelspec": {
   "display_name": "Python 3",
   "language": "python",
   "name": "python3"
  },
  "language_info": {
   "codemirror_mode": {
    "name": "ipython",
    "version": 3
   },
   "file_extension": ".py",
   "mimetype": "text/x-python",
   "name": "python",
   "nbconvert_exporter": "python",
   "pygments_lexer": "ipython3",
   "version": "3.12.9"
  }
 },
 "nbformat": 4,
 "nbformat_minor": 2
}
