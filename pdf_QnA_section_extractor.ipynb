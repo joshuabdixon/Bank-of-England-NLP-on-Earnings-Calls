{
 "cells": [
  {
   "cell_type": "markdown",
   "metadata": {},
   "source": [
    "PDF Q&A section extractor"
   ]
  },
  {
   "cell_type": "code",
   "execution_count": 1,
   "metadata": {},
   "outputs": [
    {
     "name": "stdout",
     "output_type": "stream",
     "text": [
      "Current directory: c:\\Users\\joshu\\OneDrive\\Documents\\1 Work\\Bank of England NLP\\Bank-of-England-NLP-on-Earnings-Calls\n"
     ]
    }
   ],
   "source": [
    "# Pathways\n",
    "import os\n",
    "import sys\n",
    "from pathlib import Path\n",
    "\n",
    "# Automatically set the project path to the current working directory\n",
    "project_path = Path.cwd()\n",
    "os.chdir(project_path)\n",
    "sys.path.insert(0, str(project_path))\n",
    "\n",
    "print(f\"Current directory: {os.getcwd()}\")"
   ]
  },
  {
   "cell_type": "code",
   "execution_count": null,
   "metadata": {},
   "outputs": [],
   "source": [
    "import pdfplumber\n",
    "import os\n",
    "import csv\n",
    "from PyPDF2 import PdfWriter, PdfReader\n",
    "\n",
    "# List of uploaded PDF files\n",
    "pdf_files = {\n",
    "    \"Q1_Transcript-Analyst-Call-25-April-2024.pdf\": \"/mnt/data/Q1_Transcript-Analyst-Call-25-April-2024.pdf\",\n",
    "    \"Q2_Transcript-Analyst-Call-24-July-2024-For-Upload.pdf\": \"/mnt/data/Q2_Transcript-Analyst-Call-24-July-2024-For-Upload.pdf\",\n",
    "    \"Q3-2024-Analyst-Call-Transcript-For-Upload.pdf\": \"/mnt/data/Q3-2024-Analyst-Call-Transcript-For-Upload.pdf\",\n",
    "    \"jpm-1q24-earnings-call-transcript.pdf\": \"/mnt/data/jpm-1q24-earnings-call-transcript.pdf\",\n",
    "    \"jpm-3q23-earnings-call-transcript.pdf\": \"/mnt/data/jpm-3q23-earnings-call-transcript.pdf\",\n",
    "    \"jpm-3q24-earnings-call-transcript.pdf\": \"/mnt/data/jpm-3q24-earnings-call-transcript.pdf\",\n",
    "}\n",
    "\n",
    "# Directory to save extracted Q&A PDFs\n",
    "output_dir = \"/mnt/data/extracted_qna/\"\n",
    "os.makedirs(output_dir, exist_ok=True)\n",
    "\n",
    "# CSV file to store metadata\n",
    "csv_file_path = \"/mnt/data/qna_sections_metadata.csv\"\n",
    "csv_metadata = []\n",
    "\n",
    "# Variations of Q&A section title\n",
    "qna_variations = [\n",
    "    \"Questions and Answers\", \"QUESTION AND ANSWER SECTION\", \"Q&A Section\", \"Questions & Answers\"\n",
    "]\n",
    "\n",
    "# Function to find the Q&A section start page\n",
    "def find_qna_section(pdf_path, keywords):\n",
    "    with pdfplumber.open(pdf_path) as pdf:\n",
    "        for i, page in enumerate(pdf.pages):\n",
    "            text = page.extract_text()\n",
    "            if text and any(keyword in text for keyword in keywords):\n",
    "                return i  # Return the page number where Q&A starts\n",
    "    return None\n",
    "\n",
    "# Function to extract and save Q&A section along with the cover page\n",
    "def extract_qna_with_cover(pdf_path, qna_page, output_filename):\n",
    "    with open(pdf_path, \"rb\") as pdf_file:\n",
    "        reader = PdfReader(pdf_file)\n",
    "        writer = PdfWriter()\n",
    "        \n",
    "        # Ensure cover page is included\n",
    "        pages_to_extract = [0, qna_page] if qna_page < len(reader.pages) else [0]\n",
    "\n",
    "        for page_num in pages_to_extract:\n",
    "            writer.add_page(reader.pages[page_num])\n",
    "\n",
    "        new_pdf_path = os.path.join(output_dir, output_filename)\n",
    "        with open(new_pdf_path, \"wb\") as output_pdf:\n",
    "            writer.write(output_pdf)\n",
    "\n",
    "    return new_pdf_path\n",
    "\n",
    "# Process each document and save the extracted Q&A section\n",
    "for original_filename, pdf_path in pdf_files.items():\n",
    "    qna_page = find_qna_section(pdf_path, qna_variations)\n",
    "    if qna_page is not None:\n",
    "        qna_filename = f\"QnA_{original_filename}\"\n",
    "        qna_file_path = extract_qna_with_cover(pdf_path, qna_page, qna_filename)\n",
    "\n",
    "        # Store metadata for CSV\n",
    "        csv_metadata.append([original_filename, qna_page + 1, qna_filename])\n",
    "\n",
    "# Write metadata to CSV\n",
    "with open(csv_file_path, mode=\"w\", newline=\"\", encoding=\"utf-8\") as csv_file:\n",
    "    writer = csv.writer(csv_file)\n",
    "    writer.writerow([\"Original File Name\", \"Q&A Section Page\", \"Extracted Q&A File Name\"])\n",
    "    writer.writerows(csv_metadata)\n",
    "\n",
    "# Return the CSV file path for reference\n",
    "csv_file_path\n"
   ]
  }
 ],
 "metadata": {
  "kernelspec": {
   "display_name": "bank_env",
   "language": "python",
   "name": "python3"
  },
  "language_info": {
   "codemirror_mode": {
    "name": "ipython",
    "version": 3
   },
   "file_extension": ".py",
   "mimetype": "text/x-python",
   "name": "python",
   "nbconvert_exporter": "python",
   "pygments_lexer": "ipython3",
   "version": "3.10.16"
  }
 },
 "nbformat": 4,
 "nbformat_minor": 2
}
