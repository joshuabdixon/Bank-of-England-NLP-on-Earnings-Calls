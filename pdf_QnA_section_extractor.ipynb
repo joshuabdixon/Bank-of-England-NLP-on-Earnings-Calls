{
 "cells": [
  {
   "cell_type": "markdown",
   "metadata": {},
   "source": [
    "PDF Q&A section extractor"
   ]
  },
  {
   "cell_type": "code",
   "execution_count": 13,
   "metadata": {},
   "outputs": [
    {
     "name": "stdout",
     "output_type": "stream",
     "text": [
      "Current directory: c:\\Users\\joshu\\OneDrive\\Documents\\1 Work\\Bank of England NLP\\Bank-of-England-NLP-on-Earnings-Calls\n"
     ]
    }
   ],
   "source": [
    "# Pathways\n",
    "import os\n",
    "import sys\n",
    "from pathlib import Path\n",
    "\n",
    "# Automatically set the project path to the current working directory\n",
    "project_path = Path.cwd()\n",
    "os.chdir(project_path)\n",
    "sys.path.insert(0, str(project_path))\n",
    "\n",
    "print(f\"Current directory: {os.getcwd()}\")"
   ]
  },
  {
   "cell_type": "code",
   "execution_count": null,
   "metadata": {},
   "outputs": [],
   "source": [
    "import pdfplumber\n",
    "import os\n",
    "import csv\n",
    "from PyPDF2 import PdfWriter, PdfReader\n",
    "from pathlib import Path\n",
    "\n",
    "# Use relative \"1_data\" folder from current working directory\n",
    "data_folder = Path(\"1_data\")\n",
    "\n",
    "# Automatically get a list of all PDF files in the folder\n",
    "pdf_files = list(data_folder.glob(\"*.pdf\"))\n",
    "\n",
    "# Directory to save extracted Q&A PDFs (relative to current working directory)\n",
    "output_dir = Path(\"2_extracted_data\")\n",
    "output_dir.mkdir(parents=True, exist_ok=True)\n",
    "\n",
    "# CSV file to store metadata\n",
    "csv_file_path = output_dir / \"qna_sections_metadata.csv\"\n",
    "csv_metadata = []\n",
    "\n",
    "# Variations of Q&A section title\n",
    "qna_variations = [\n",
    "    \"Questions and Answers\", \"QUESTION AND ANSWER SECTION\", \"Q&A Section\", \"Questions & Answers\"\n",
    "]\n",
    "\n",
    "# Function to find the Q&A section start page\n",
    "def find_qna_section(pdf_path, keywords):\n",
    "    with pdfplumber.open(pdf_path) as pdf:\n",
    "        for i, page in enumerate(pdf.pages):\n",
    "            text = page.extract_text()\n",
    "            if text and any(keyword in text for keyword in keywords):\n",
    "                return i  # Return the page index where Q&A starts (0-indexed)\n",
    "    return None\n",
    "\n",
    "# Function to extract and save Q&A section along with the cover page\n",
    "def extract_qna_with_cover(pdf_path, qna_page, output_filename):\n",
    "    with open(pdf_path, \"rb\") as pdf_file:\n",
    "        reader = PdfReader(pdf_file)\n",
    "        writer = PdfWriter()\n",
    "        \n",
    "        # Ensure cover page is included. If the Q&A page exists, include it; otherwise, include only the cover.\n",
    "        pages_to_extract = [0, qna_page] if qna_page is not None and qna_page < len(reader.pages) else [0]\n",
    "\n",
    "        for page_num in pages_to_extract:\n",
    "            writer.add_page(reader.pages[page_num])\n",
    "\n",
    "        new_pdf_path = os.path.join(output_dir, output_filename)\n",
    "        with open(new_pdf_path, \"wb\") as output_pdf:\n",
    "            writer.write(output_pdf)\n",
    "\n",
    "    return new_pdf_path\n",
    "\n",
    "# Process each PDF document and save the extracted Q&A section\n",
    "for pdf_file in pdf_files:\n",
    "    original_filename = pdf_file.name  # e.g. \"Q1_Transcript-Analyst-Call-25-April-2024.pdf\"\n",
    "    qna_page = find_qna_section(pdf_file, qna_variations)\n",
    "    if qna_page is not None:\n",
    "        qna_filename = f\"QnA_{original_filename}\"\n",
    "        qna_file_path = extract_qna_with_cover(pdf_file, qna_page, qna_filename)\n",
    "        # Store metadata: original filename, Q&A section page (converted to 1-indexed), and the new QnA filename.\n",
    "        csv_metadata.append([original_filename, qna_page + 1, qna_filename])\n",
    "    else:\n",
    "        print(f\"❌ Q&A section not found in {original_filename}\")\n",
    "\n",
    "# Write metadata to CSV\n",
    "with open(csv_file_path, mode=\"w\", newline=\"\", encoding=\"utf-8\") as csv_file:\n",
    "    writer = csv.writer(csv_file)\n",
    "    writer.writerow([\"Original File Name\", \"Q&A Section Page\", \"Extracted Q&A File Name\"])\n",
    "    writer.writerows(csv_metadata)"
   ]
  }
 ],
 "metadata": {
  "kernelspec": {
   "display_name": "bank_env",
   "language": "python",
   "name": "python3"
  },
  "language_info": {
   "codemirror_mode": {
    "name": "ipython",
    "version": 3
   },
   "file_extension": ".py",
   "mimetype": "text/x-python",
   "name": "python",
   "nbconvert_exporter": "python",
   "pygments_lexer": "ipython3",
   "version": "3.10.16"
  }
 },
 "nbformat": 4,
 "nbformat_minor": 2
}
